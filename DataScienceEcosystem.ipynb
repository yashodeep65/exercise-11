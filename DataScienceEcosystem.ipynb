{
 "cells": [
  {
   "cell_type": "markdown",
   "id": "10486f50-cb1c-45bd-b334-4ec6770038fb",
   "metadata": {},
   "source": [
    "# Data Science tools and Ecosystem"
   ]
  },
  {
   "cell_type": "markdown",
   "id": "6fac1c2b-e64e-4be0-b6a6-ce95f219d856",
   "metadata": {},
   "source": [
    "___In this notebook , Data Science Tools and Ecosystem are summerized___"
   ]
  },
  {
   "cell_type": "markdown",
   "id": "bf926449-8e57-4d3a-89ab-0201235782e8",
   "metadata": {},
   "source": [
    "__objectives__\n",
    "- java\n",
    "- c++\n",
    "- python\n",
    "- rstudio\n"
   ]
  },
  {
   "cell_type": "markdown",
   "id": "132d0457-1983-46e2-9fc0-287b241cbbc4",
   "metadata": {},
   "source": [
    "Some of the Popular langauges that data Scientist use are :\n",
    "1. python\n",
    "2. r\n",
    "3. java\n",
    "4. c++"
   ]
  },
  {
   "cell_type": "markdown",
   "id": "896be164-7f25-43c8-a396-d1e91139de47",
   "metadata": {},
   "source": [
    "___some of the commonly used libraries used by Data Scientists include:___\n",
    "1. Matplotlib\n",
    "2. NumPy\n",
    "3. ploty"
   ]
  },
  {
   "cell_type": "markdown",
   "id": "d77412d7-73c1-4493-a82d-7003e0fe7ea4",
   "metadata": {},
   "source": [
    "| Data Science Tools |\n",
    "|--------------------|\n",
    "| Jupyter Notebooks  |\n",
    "| Jupyter Labs       |\n",
    "| Git hub            |"
   ]
  },
  {
   "cell_type": "markdown",
   "id": "1e18cc97-1955-48f1-8cad-6a6ccb9405a9",
   "metadata": {},
   "source": [
    "### Below are a few examples of evaluating arithmetic expressions in Python ###\n",
    "* 3+4=7\n",
    "* 5*5=25\n",
    "* 10-1=9\n",
    "* 10/2=5"
   ]
  },
  {
   "cell_type": "code",
   "execution_count": 4,
   "id": "29e52561-d83a-41b3-b5d3-f4151f55702c",
   "metadata": {},
   "outputs": [
    {
     "data": {
      "text/plain": [
       "17"
      ]
     },
     "execution_count": 4,
     "metadata": {},
     "output_type": "execute_result"
    }
   ],
   "source": [
    "##### This a simple arithmetic expression to mutiply then add integers.#####\n",
    "(3*4)+5"
   ]
  },
  {
   "cell_type": "code",
   "execution_count": 5,
   "id": "ca4531f5-3990-4b4f-80c3-2793eff8b6b5",
   "metadata": {},
   "outputs": [
    {
     "data": {
      "text/plain": [
       "3.3333333333333335"
      ]
     },
     "execution_count": 5,
     "metadata": {},
     "output_type": "execute_result"
    }
   ],
   "source": [
    "# This will convert 200 minutes to hours by diving by 60.#\n",
    "200/60"
   ]
  },
  {
   "cell_type": "markdown",
   "id": "8226a269-f862-49c8-8f56-cafd45ba080a",
   "metadata": {},
   "source": [
    "## Author ##\n",
    "YASHODEEP GUNWANT DHANFOLE"
   ]
  },
  {
   "cell_type": "code",
   "execution_count": null,
   "id": "20d6ed6d-f7e6-40ee-98cd-60204144481c",
   "metadata": {},
   "outputs": [],
   "source": []
  }
 ],
 "metadata": {
  "kernelspec": {
   "display_name": "Python 3 (ipykernel)",
   "language": "python",
   "name": "python3"
  },
  "language_info": {
   "codemirror_mode": {
    "name": "ipython",
    "version": 3
   },
   "file_extension": ".py",
   "mimetype": "text/x-python",
   "name": "python",
   "nbconvert_exporter": "python",
   "pygments_lexer": "ipython3",
   "version": "3.12.7"
  }
 },
 "nbformat": 4,
 "nbformat_minor": 5
}
